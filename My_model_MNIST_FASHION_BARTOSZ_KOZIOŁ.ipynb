version https://git-lfs.github.com/spec/v1
oid sha256:2b75e6f3cb8e729b85af155987e2574198a4fdae534565a0734216a5f31a5c5d
size 934516
